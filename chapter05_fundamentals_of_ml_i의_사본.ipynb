{
  "cells": [
    {
      "cell_type": "markdown",
      "metadata": {
        "id": "view-in-github",
        "colab_type": "text"
      },
      "source": [
        "<a href=\"https://colab.research.google.com/github/tjdmstj/Chapter-5/blob/main/chapter05_fundamentals_of_ml_i%EC%9D%98_%EC%82%AC%EB%B3%B8.ipynb\" target=\"_parent\"><img src=\"https://colab.research.google.com/assets/colab-badge.svg\" alt=\"Open In Colab\"/></a>"
      ]
    },
    {
      "cell_type": "markdown",
      "metadata": {
        "id": "_JN8RW8spECh"
      },
      "source": [
        "This is a companion notebook for the book [Deep Learning with Python, Second Edition](https://www.manning.com/books/deep-learning-with-python-second-edition?a_aid=keras&a_bid=76564dff). For readability, it only contains runnable code blocks and section titles, and omits everything else in the book: text paragraphs, figures, and pseudocode.\n",
        "\n",
        "**If you want to be able to follow what's going on, I recommend reading the notebook side by side with your copy of the book.**\n",
        "\n",
        "This notebook was generated for TensorFlow 2.6."
      ]
    },
    {
      "cell_type": "markdown",
      "metadata": {
        "id": "olbBzpOlpECo"
      },
      "source": [
        "# Fundamentals of machine learning"
      ]
    },
    {
      "cell_type": "markdown",
      "metadata": {
        "id": "ffTBqtgFpECp"
      },
      "source": [
        "## Generalization: The goal of machine learning"
      ]
    },
    {
      "cell_type": "markdown",
      "metadata": {
        "id": "M4Qvrze-pECp"
      },
      "source": [
        "### Underfitting and overfitting"
      ]
    },
    {
      "cell_type": "markdown",
      "metadata": {
        "id": "acv4ZWzWpECq"
      },
      "source": [
        "#### Noisy training data"
      ]
    },
    {
      "cell_type": "markdown",
      "metadata": {
        "id": "kVnVF91SpECs"
      },
      "source": [
        "#### Ambiguous features"
      ]
    },
    {
      "cell_type": "markdown",
      "metadata": {
        "id": "Lg_EH3kupECt"
      },
      "source": [
        "#### Rare features and spurious correlations"
      ]
    },
    {
      "cell_type": "markdown",
      "metadata": {
        "id": "qDEzFjbnpECu"
      },
      "source": [
        "**Adding white-noise channels or all-zeros channels to MNIST**"
      ]
    },
    {
      "cell_type": "code",
      "execution_count": 1,
      "metadata": {
        "id": "9PLwcRfSpECv",
        "colab": {
          "base_uri": "https://localhost:8080/"
        },
        "outputId": "44047603-4758-4f82-c296-a55268ff217c"
      },
      "outputs": [
        {
          "output_type": "stream",
          "name": "stdout",
          "text": [
            "Downloading data from https://storage.googleapis.com/tensorflow/tf-keras-datasets/mnist.npz\n",
            "11493376/11490434 [==============================] - 0s 0us/step\n",
            "11501568/11490434 [==============================] - 0s 0us/step\n"
          ]
        }
      ],
      "source": [
        "from tensorflow.keras.datasets import mnist\n",
        "import numpy as np\n",
        "\n",
        "(train_images, train_labels), _ = mnist.load_data()\n",
        "train_images = train_images.reshape((60000, 28 * 28))\n",
        "train_images = train_images.astype(\"float32\") / 255\n",
        "\n",
        "train_images_with_noise_channels = np.concatenate(\n",
        "    [train_images, np.random.random((len(train_images), 784))], axis=1)\n",
        "\n",
        "train_images_with_zeros_channels = np.concatenate(\n",
        "    [train_images, np.zeros((len(train_images), 784))], axis=1)"
      ]
    },
    {
      "cell_type": "code",
      "source": [
        "train_images.shape"
      ],
      "metadata": {
        "colab": {
          "base_uri": "https://localhost:8080/"
        },
        "id": "l7cSuxNZuI_g",
        "outputId": "adb8b2f4-8fb5-4d63-cdf9-6fbe8112457b"
      },
      "execution_count": 16,
      "outputs": [
        {
          "output_type": "execute_result",
          "data": {
            "text/plain": [
              "(60000, 784)"
            ]
          },
          "metadata": {},
          "execution_count": 16
        }
      ]
    },
    {
      "cell_type": "code",
      "source": [
        "(len(train_images),784)"
      ],
      "metadata": {
        "colab": {
          "base_uri": "https://localhost:8080/"
        },
        "id": "L1ipb2NOvLcF",
        "outputId": "7851e6a5-b948-4b54-f6d5-a42ae37c4f5c"
      },
      "execution_count": 17,
      "outputs": [
        {
          "output_type": "execute_result",
          "data": {
            "text/plain": [
              "(60000, 784)"
            ]
          },
          "metadata": {},
          "execution_count": 17
        }
      ]
    },
    {
      "cell_type": "code",
      "source": [
        "np.zeros((len(train_images), 784))"
      ],
      "metadata": {
        "colab": {
          "base_uri": "https://localhost:8080/"
        },
        "id": "Ktp9tcbIvYZT",
        "outputId": "46c1014c-0dcf-4b9d-f4ee-e2f5a44fd687"
      },
      "execution_count": 19,
      "outputs": [
        {
          "output_type": "execute_result",
          "data": {
            "text/plain": [
              "array([[0., 0., 0., ..., 0., 0., 0.],\n",
              "       [0., 0., 0., ..., 0., 0., 0.],\n",
              "       [0., 0., 0., ..., 0., 0., 0.],\n",
              "       ...,\n",
              "       [0., 0., 0., ..., 0., 0., 0.],\n",
              "       [0., 0., 0., ..., 0., 0., 0.],\n",
              "       [0., 0., 0., ..., 0., 0., 0.]])"
            ]
          },
          "metadata": {},
          "execution_count": 19
        }
      ]
    },
    {
      "cell_type": "markdown",
      "metadata": {
        "id": "FCmgF97tpECw"
      },
      "source": [
        "**Training the same model on MNIST data with noise channels or all-zero channels**"
      ]
    },
    {
      "cell_type": "code",
      "execution_count": 2,
      "metadata": {
        "id": "DraOmwhRpECx",
        "colab": {
          "base_uri": "https://localhost:8080/"
        },
        "outputId": "005f8cda-702e-4f84-cd9f-8e6cfbb05e24"
      },
      "outputs": [
        {
          "output_type": "stream",
          "name": "stdout",
          "text": [
            "Epoch 1/10\n",
            "375/375 [==============================] - 6s 7ms/step - loss: 0.6175 - accuracy: 0.8126 - val_loss: 0.2538 - val_accuracy: 0.9245\n",
            "Epoch 2/10\n",
            "375/375 [==============================] - 2s 5ms/step - loss: 0.2459 - accuracy: 0.9229 - val_loss: 0.2012 - val_accuracy: 0.9377\n",
            "Epoch 3/10\n",
            "375/375 [==============================] - 2s 6ms/step - loss: 0.1621 - accuracy: 0.9502 - val_loss: 0.1595 - val_accuracy: 0.9553\n",
            "Epoch 4/10\n",
            "375/375 [==============================] - 2s 4ms/step - loss: 0.1175 - accuracy: 0.9639 - val_loss: 0.1815 - val_accuracy: 0.9430\n",
            "Epoch 5/10\n",
            "375/375 [==============================] - 1s 3ms/step - loss: 0.0853 - accuracy: 0.9728 - val_loss: 0.1756 - val_accuracy: 0.9483\n",
            "Epoch 6/10\n",
            "375/375 [==============================] - 1s 3ms/step - loss: 0.0637 - accuracy: 0.9799 - val_loss: 0.1612 - val_accuracy: 0.9537\n",
            "Epoch 7/10\n",
            "375/375 [==============================] - 1s 3ms/step - loss: 0.0464 - accuracy: 0.9853 - val_loss: 0.1323 - val_accuracy: 0.9634\n",
            "Epoch 8/10\n",
            "375/375 [==============================] - 1s 3ms/step - loss: 0.0353 - accuracy: 0.9888 - val_loss: 0.1170 - val_accuracy: 0.9676\n",
            "Epoch 9/10\n",
            "375/375 [==============================] - 1s 3ms/step - loss: 0.0266 - accuracy: 0.9912 - val_loss: 0.1352 - val_accuracy: 0.9679\n",
            "Epoch 10/10\n",
            "375/375 [==============================] - 1s 3ms/step - loss: 0.0214 - accuracy: 0.9931 - val_loss: 0.1355 - val_accuracy: 0.9679\n",
            "Epoch 1/10\n",
            "375/375 [==============================] - 2s 3ms/step - loss: 0.2855 - accuracy: 0.9173 - val_loss: 0.1445 - val_accuracy: 0.9591\n",
            "Epoch 2/10\n",
            "375/375 [==============================] - 1s 3ms/step - loss: 0.1186 - accuracy: 0.9651 - val_loss: 0.1147 - val_accuracy: 0.9667\n",
            "Epoch 3/10\n",
            "375/375 [==============================] - 1s 3ms/step - loss: 0.0779 - accuracy: 0.9769 - val_loss: 0.0945 - val_accuracy: 0.9720\n",
            "Epoch 4/10\n",
            "375/375 [==============================] - 1s 3ms/step - loss: 0.0562 - accuracy: 0.9834 - val_loss: 0.0836 - val_accuracy: 0.9753\n",
            "Epoch 5/10\n",
            "375/375 [==============================] - 1s 3ms/step - loss: 0.0413 - accuracy: 0.9883 - val_loss: 0.0935 - val_accuracy: 0.9732\n",
            "Epoch 6/10\n",
            "375/375 [==============================] - 1s 3ms/step - loss: 0.0322 - accuracy: 0.9906 - val_loss: 0.0819 - val_accuracy: 0.9758\n",
            "Epoch 7/10\n",
            "375/375 [==============================] - 1s 3ms/step - loss: 0.0234 - accuracy: 0.9933 - val_loss: 0.0856 - val_accuracy: 0.9779\n",
            "Epoch 8/10\n",
            "375/375 [==============================] - 1s 3ms/step - loss: 0.0184 - accuracy: 0.9945 - val_loss: 0.0792 - val_accuracy: 0.9783\n",
            "Epoch 9/10\n",
            "375/375 [==============================] - 1s 3ms/step - loss: 0.0133 - accuracy: 0.9965 - val_loss: 0.0857 - val_accuracy: 0.9788\n",
            "Epoch 10/10\n",
            "375/375 [==============================] - 1s 3ms/step - loss: 0.0109 - accuracy: 0.9971 - val_loss: 0.0911 - val_accuracy: 0.9789\n"
          ]
        }
      ],
      "source": [
        "from tensorflow import keras\n",
        "from tensorflow.keras import layers\n",
        "\n",
        "def get_model():\n",
        "    model = keras.Sequential([\n",
        "        layers.Dense(512, activation=\"relu\"),\n",
        "        layers.Dense(10, activation=\"softmax\")\n",
        "    ])\n",
        "    model.compile(optimizer=\"rmsprop\",\n",
        "                  loss=\"sparse_categorical_crossentropy\",\n",
        "                  metrics=[\"accuracy\"])\n",
        "    return model\n",
        "\n",
        "model = get_model()\n",
        "history_noise = model.fit(\n",
        "    train_images_with_noise_channels, train_labels,\n",
        "    epochs=10,\n",
        "    batch_size=128,\n",
        "    validation_split=0.2)\n",
        "\n",
        "model = get_model()\n",
        "history_zeros = model.fit(\n",
        "    train_images_with_zeros_channels, train_labels,\n",
        "    epochs=10,\n",
        "    batch_size=128,\n",
        "    validation_split=0.2)"
      ]
    },
    {
      "cell_type": "markdown",
      "metadata": {
        "id": "nSaslD6_pECz"
      },
      "source": [
        "**Plotting a validation accuracy comparison**"
      ]
    },
    {
      "cell_type": "code",
      "execution_count": 3,
      "metadata": {
        "id": "SwavllqdpECz",
        "colab": {
          "base_uri": "https://localhost:8080/",
          "height": 313
        },
        "outputId": "1cbb635a-b94b-4541-e257-e71037d5d11f"
      },
      "outputs": [
        {
          "output_type": "execute_result",
          "data": {
            "text/plain": [
              "<matplotlib.legend.Legend at 0x7fbd80243d50>"
            ]
          },
          "metadata": {},
          "execution_count": 3
        },
        {
          "output_type": "display_data",
          "data": {
            "text/plain": [
              "<Figure size 432x288 with 1 Axes>"
            ],
            "image/png": "[encoded data removed]"
          },
          "metadata": {
            "needs_background": "light"
          }
        }
      ],
      "source": [
        "import matplotlib.pyplot as plt\n",
        "val_acc_noise = history_noise.history[\"val_accuracy\"]\n",
        "val_acc_zeros = history_zeros.history[\"val_accuracy\"]\n",
        "epochs = range(1, 11)\n",
        "plt.plot(epochs, val_acc_noise, \"b-\",\n",
        "         label=\"Validation accuracy with noise channels\")\n",
        "plt.plot(epochs, val_acc_zeros, \"b--\",\n",
        "         label=\"Validation accuracy with zeros channels\")\n",
        "plt.title(\"Effect of noise channels on validation accuracy\")\n",
        "plt.xlabel(\"Epochs\")\n",
        "plt.ylabel(\"Accuracy\")\n",
        "plt.legend()"
      ]
    },
    {
      "cell_type": "code",
      "source": [
        "model = get_model()\n",
        "history1 = model.fit(\n",
        "    train_images, train_labels,\n",
        "    epochs=10,\n",
        "    batch_size=128,\n",
        "    validation_split=0.2)"
      ],
      "metadata": {
        "colab": {
          "base_uri": "https://localhost:8080/",
          "height": 415
        },
        "id": "ULRYpabsv8ld",
        "outputId": "75ab8aff-141f-435b-fcd8-fb8477ecd6fe"
      },
      "execution_count": 21,
      "outputs": [
        {
          "output_type": "error",
          "ename": "ValueError",
          "evalue": "ignored",
          "traceback": [
            "\u001b[0;31m---------------------------------------------------------------------------\u001b[0m",
            "\u001b[0;31mValueError\u001b[0m                                Traceback (most recent call last)",
            "\u001b[0;32m<ipython-input-21-4fa43af50886>\u001b[0m in \u001b[0;36m<module>\u001b[0;34m()\u001b[0m\n\u001b[1;32m      4\u001b[0m     \u001b[0mepochs\u001b[0m\u001b[0;34m=\u001b[0m\u001b[0;36m10\u001b[0m\u001b[0;34m,\u001b[0m\u001b[0;34m\u001b[0m\u001b[0;34m\u001b[0m\u001b[0m\n\u001b[1;32m      5\u001b[0m     \u001b[0mbatch_size\u001b[0m\u001b[0;34m=\u001b[0m\u001b[0;36m128\u001b[0m\u001b[0;34m,\u001b[0m\u001b[0;34m\u001b[0m\u001b[0;34m\u001b[0m\u001b[0m\n\u001b[0;32m----> 6\u001b[0;31m     validation_split=0.2)\n\u001b[0m",
            "\u001b[0;32m/usr/local/lib/python3.7/dist-packages/keras/utils/traceback_utils.py\u001b[0m in \u001b[0;36merror_handler\u001b[0;34m(*args, **kwargs)\u001b[0m\n\u001b[1;32m     65\u001b[0m     \u001b[0;32mexcept\u001b[0m \u001b[0mException\u001b[0m \u001b[0;32mas\u001b[0m \u001b[0me\u001b[0m\u001b[0;34m:\u001b[0m  \u001b[0;31m# pylint: disable=broad-except\u001b[0m\u001b[0;34m\u001b[0m\u001b[0;34m\u001b[0m\u001b[0m\n\u001b[1;32m     66\u001b[0m       \u001b[0mfiltered_tb\u001b[0m \u001b[0;34m=\u001b[0m \u001b[0m_process_traceback_frames\u001b[0m\u001b[0;34m(\u001b[0m\u001b[0me\u001b[0m\u001b[0;34m.\u001b[0m\u001b[0m__traceback__\u001b[0m\u001b[0;34m)\u001b[0m\u001b[0;34m\u001b[0m\u001b[0;34m\u001b[0m\u001b[0m\n\u001b[0;32m---> 67\u001b[0;31m       \u001b[0;32mraise\u001b[0m \u001b[0me\u001b[0m\u001b[0;34m.\u001b[0m\u001b[0mwith_traceback\u001b[0m\u001b[0;34m(\u001b[0m\u001b[0mfiltered_tb\u001b[0m\u001b[0;34m)\u001b[0m \u001b[0;32mfrom\u001b[0m \u001b[0;32mNone\u001b[0m\u001b[0;34m\u001b[0m\u001b[0;34m\u001b[0m\u001b[0m\n\u001b[0m\u001b[1;32m     68\u001b[0m     \u001b[0;32mfinally\u001b[0m\u001b[0;34m:\u001b[0m\u001b[0;34m\u001b[0m\u001b[0;34m\u001b[0m\u001b[0m\n\u001b[1;32m     69\u001b[0m       \u001b[0;32mdel\u001b[0m \u001b[0mfiltered_tb\u001b[0m\u001b[0;34m\u001b[0m\u001b[0;34m\u001b[0m\u001b[0m\n",
            "\u001b[0;32m/usr/local/lib/python3.7/dist-packages/keras/engine/data_adapter.py\u001b[0m in \u001b[0;36m_check_data_cardinality\u001b[0;34m(data)\u001b[0m\n\u001b[1;32m   1651\u001b[0m                            for i in tf.nest.flatten(single_data)))\n\u001b[1;32m   1652\u001b[0m     \u001b[0mmsg\u001b[0m \u001b[0;34m+=\u001b[0m \u001b[0;34m\"Make sure all arrays contain the same number of samples.\"\u001b[0m\u001b[0;34m\u001b[0m\u001b[0;34m\u001b[0m\u001b[0m\n\u001b[0;32m-> 1653\u001b[0;31m     \u001b[0;32mraise\u001b[0m \u001b[0mValueError\u001b[0m\u001b[0;34m(\u001b[0m\u001b[0mmsg\u001b[0m\u001b[0;34m)\u001b[0m\u001b[0;34m\u001b[0m\u001b[0;34m\u001b[0m\u001b[0m\n\u001b[0m\u001b[1;32m   1654\u001b[0m \u001b[0;34m\u001b[0m\u001b[0m\n\u001b[1;32m   1655\u001b[0m \u001b[0;34m\u001b[0m\u001b[0m\n",
            "\u001b[0;31mValueError\u001b[0m: Data cardinality is ambiguous:\n  x sizes: 48000\n  y sizes: 25000\nMake sure all arrays contain the same number of samples."
          ]
        }
      ]
    },
    {
      "cell_type": "code",
      "source": [
        "import matplotlib.pyplot as plt\n",
        "val_acc= history1.history[\"val_accuracy\"]\n",
        "val_acc_zeros = history_zeros.history[\"val_accuracy\"]\n",
        "epochs = range(1, 11)\n",
        "plt.plot(epochs, val_acc_noise, \"b-\",\n",
        "         label=\"Validation accuracy with origin data\")\n",
        "plt.plot(epochs, val_acc_zeros, \"b--\",\n",
        "         label=\"Validation accuracy with zeros channels\")\n",
        "plt.title(\"Effect of noise channels on validation accuracy\")\n",
        "plt.xlabel(\"Epochs\")\n",
        "plt.ylabel(\"Accuracy\")\n",
        "plt.legend()"
      ],
      "metadata": {
        "colab": {
          "base_uri": "https://localhost:8080/",
          "height": 245
        },
        "id": "9s4dFfM1vhSt",
        "outputId": "eef099ee-0948-40c7-f2c2-8b0bdd67a76c"
      },
      "execution_count": 20,
      "outputs": [
        {
          "output_type": "error",
          "ename": "NameError",
          "evalue": "ignored",
          "traceback": [
            "\u001b[0;31m---------------------------------------------------------------------------\u001b[0m",
            "\u001b[0;31mNameError\u001b[0m                                 Traceback (most recent call last)",
            "\u001b[0;32m<ipython-input-20-6d8fdff90862>\u001b[0m in \u001b[0;36m<module>\u001b[0;34m()\u001b[0m\n\u001b[1;32m      1\u001b[0m \u001b[0;32mimport\u001b[0m \u001b[0mmatplotlib\u001b[0m\u001b[0;34m.\u001b[0m\u001b[0mpyplot\u001b[0m \u001b[0;32mas\u001b[0m \u001b[0mplt\u001b[0m\u001b[0;34m\u001b[0m\u001b[0;34m\u001b[0m\u001b[0m\n\u001b[0;32m----> 2\u001b[0;31m \u001b[0mval_acc\u001b[0m\u001b[0;34m=\u001b[0m \u001b[0mhistory1\u001b[0m\u001b[0;34m.\u001b[0m\u001b[0mhistory\u001b[0m\u001b[0;34m[\u001b[0m\u001b[0;34m\"val_accuracy\"\u001b[0m\u001b[0;34m]\u001b[0m\u001b[0;34m\u001b[0m\u001b[0;34m\u001b[0m\u001b[0m\n\u001b[0m\u001b[1;32m      3\u001b[0m \u001b[0mval_acc_zeros\u001b[0m \u001b[0;34m=\u001b[0m \u001b[0mhistory_zeros\u001b[0m\u001b[0;34m.\u001b[0m\u001b[0mhistory\u001b[0m\u001b[0;34m[\u001b[0m\u001b[0;34m\"val_accuracy\"\u001b[0m\u001b[0;34m]\u001b[0m\u001b[0;34m\u001b[0m\u001b[0;34m\u001b[0m\u001b[0m\n\u001b[1;32m      4\u001b[0m \u001b[0mepochs\u001b[0m \u001b[0;34m=\u001b[0m \u001b[0mrange\u001b[0m\u001b[0;34m(\u001b[0m\u001b[0;36m1\u001b[0m\u001b[0;34m,\u001b[0m \u001b[0;36m11\u001b[0m\u001b[0;34m)\u001b[0m\u001b[0;34m\u001b[0m\u001b[0;34m\u001b[0m\u001b[0m\n\u001b[1;32m      5\u001b[0m plt.plot(epochs, val_acc_noise, \"b-\",\n",
            "\u001b[0;31mNameError\u001b[0m: name 'history1' is not defined"
          ]
        }
      ]
    },
    {
      "cell_type": "markdown",
      "metadata": {
        "id": "P6WKdeNvpEC0"
      },
      "source": [
        "### The nature of generalization in deep learning"
      ]
    },
    {
      "cell_type": "markdown",
      "metadata": {
        "id": "tAgUJ6b5pEC0"
      },
      "source": [
        "**Fitting a MNIST model with randomly shuffled labels**"
      ]
    },
    {
      "cell_type": "code",
      "execution_count": 4,
      "metadata": {
        "id": "p7E2tcqIpEC0",
        "colab": {
          "base_uri": "https://localhost:8080/"
        },
        "outputId": "06c9f2a8-4eb7-4e62-b960-0627a1dade86"
      },
      "outputs": [
        {
          "output_type": "stream",
          "name": "stdout",
          "text": [
            "Epoch 1/100\n",
            "375/375 [==============================] - 2s 4ms/step - loss: 2.3152 - accuracy: 0.1028 - val_loss: 2.3086 - val_accuracy: 0.0993\n",
            "Epoch 2/100\n",
            "375/375 [==============================] - 1s 3ms/step - loss: 2.2995 - accuracy: 0.1164 - val_loss: 2.3174 - val_accuracy: 0.1037\n",
            "Epoch 3/100\n",
            "375/375 [==============================] - 1s 3ms/step - loss: 2.2904 - accuracy: 0.1248 - val_loss: 2.3193 - val_accuracy: 0.1033\n",
            "Epoch 4/100\n",
            "375/375 [==============================] - 1s 3ms/step - loss: 2.2768 - accuracy: 0.1391 - val_loss: 2.3268 - val_accuracy: 0.1007\n",
            "Epoch 5/100\n",
            "375/375 [==============================] - 1s 3ms/step - loss: 2.2596 - accuracy: 0.1521 - val_loss: 2.3350 - val_accuracy: 0.1028\n",
            "Epoch 6/100\n",
            "375/375 [==============================] - 1s 3ms/step - loss: 2.2389 - accuracy: 0.1685 - val_loss: 2.3529 - val_accuracy: 0.1004\n",
            "Epoch 7/100\n",
            "375/375 [==============================] - 1s 3ms/step - loss: 2.2140 - accuracy: 0.1811 - val_loss: 2.3850 - val_accuracy: 0.0982\n",
            "Epoch 8/100\n",
            "375/375 [==============================] - 1s 3ms/step - loss: 2.1860 - accuracy: 0.1988 - val_loss: 2.3832 - val_accuracy: 0.1013\n",
            "Epoch 9/100\n",
            "375/375 [==============================] - 1s 3ms/step - loss: 2.1577 - accuracy: 0.2140 - val_loss: 2.4037 - val_accuracy: 0.1049\n",
            "Epoch 10/100\n",
            "375/375 [==============================] - 1s 3ms/step - loss: 2.1268 - accuracy: 0.2309 - val_loss: 2.4281 - val_accuracy: 0.1011\n",
            "Epoch 11/100\n",
            "375/375 [==============================] - 1s 3ms/step - loss: 2.0958 - accuracy: 0.2458 - val_loss: 2.4422 - val_accuracy: 0.1002\n",
            "Epoch 12/100\n",
            "375/375 [==============================] - 1s 3ms/step - loss: 2.0623 - accuracy: 0.2622 - val_loss: 2.4688 - val_accuracy: 0.1001\n",
            "Epoch 13/100\n",
            "375/375 [==============================] - 1s 3ms/step - loss: 2.0283 - accuracy: 0.2764 - val_loss: 2.4925 - val_accuracy: 0.0993\n",
            "Epoch 14/100\n",
            "375/375 [==============================] - 1s 3ms/step - loss: 1.9946 - accuracy: 0.2936 - val_loss: 2.5196 - val_accuracy: 0.1043\n",
            "Epoch 15/100\n",
            "375/375 [==============================] - 1s 3ms/step - loss: 1.9599 - accuracy: 0.3061 - val_loss: 2.5590 - val_accuracy: 0.1023\n",
            "Epoch 16/100\n",
            "375/375 [==============================] - 1s 3ms/step - loss: 1.9251 - accuracy: 0.3217 - val_loss: 2.5726 - val_accuracy: 0.1058\n",
            "Epoch 17/100\n",
            "375/375 [==============================] - 1s 3ms/step - loss: 1.8924 - accuracy: 0.3316 - val_loss: 2.6102 - val_accuracy: 0.1062\n",
            "Epoch 18/100\n",
            "375/375 [==============================] - 1s 3ms/step - loss: 1.8582 - accuracy: 0.3471 - val_loss: 2.6532 - val_accuracy: 0.1045\n",
            "Epoch 19/100\n",
            "375/375 [==============================] - 1s 3ms/step - loss: 1.8246 - accuracy: 0.3620 - val_loss: 2.6830 - val_accuracy: 0.1046\n",
            "Epoch 20/100\n",
            "375/375 [==============================] - 1s 3ms/step - loss: 1.7925 - accuracy: 0.3741 - val_loss: 2.7274 - val_accuracy: 0.1052\n",
            "Epoch 21/100\n",
            "375/375 [==============================] - 1s 3ms/step - loss: 1.7619 - accuracy: 0.3862 - val_loss: 2.7491 - val_accuracy: 0.1067\n",
            "Epoch 22/100\n",
            "375/375 [==============================] - 1s 3ms/step - loss: 1.7296 - accuracy: 0.3997 - val_loss: 2.8004 - val_accuracy: 0.1010\n",
            "Epoch 23/100\n",
            "375/375 [==============================] - 1s 3ms/step - loss: 1.6969 - accuracy: 0.4157 - val_loss: 2.8322 - val_accuracy: 0.1023\n",
            "Epoch 24/100\n",
            "375/375 [==============================] - 1s 3ms/step - loss: 1.6685 - accuracy: 0.4232 - val_loss: 2.8693 - val_accuracy: 0.1015\n",
            "Epoch 25/100\n",
            "375/375 [==============================] - 1s 3ms/step - loss: 1.6369 - accuracy: 0.4359 - val_loss: 2.9335 - val_accuracy: 0.1026\n",
            "Epoch 26/100\n",
            "375/375 [==============================] - 1s 3ms/step - loss: 1.6118 - accuracy: 0.4418 - val_loss: 2.9716 - val_accuracy: 0.1028\n",
            "Epoch 27/100\n",
            "375/375 [==============================] - 1s 3ms/step - loss: 1.5819 - accuracy: 0.4538 - val_loss: 3.0002 - val_accuracy: 0.1025\n",
            "Epoch 28/100\n",
            "375/375 [==============================] - 1s 3ms/step - loss: 1.5541 - accuracy: 0.4678 - val_loss: 3.0346 - val_accuracy: 0.1002\n",
            "Epoch 29/100\n",
            "375/375 [==============================] - 1s 3ms/step - loss: 1.5273 - accuracy: 0.4748 - val_loss: 3.0680 - val_accuracy: 0.1033\n",
            "Epoch 30/100\n",
            "375/375 [==============================] - 1s 3ms/step - loss: 1.5025 - accuracy: 0.4846 - val_loss: 3.1179 - val_accuracy: 0.1035\n",
            "Epoch 31/100\n",
            "375/375 [==============================] - 2s 4ms/step - loss: 1.4772 - accuracy: 0.4936 - val_loss: 3.1645 - val_accuracy: 0.1006\n",
            "Epoch 32/100\n",
            "375/375 [==============================] - 1s 4ms/step - loss: 1.4514 - accuracy: 0.5042 - val_loss: 3.2223 - val_accuracy: 0.1020\n",
            "Epoch 33/100\n",
            "375/375 [==============================] - 1s 3ms/step - loss: 1.4257 - accuracy: 0.5163 - val_loss: 3.2503 - val_accuracy: 0.1015\n",
            "Epoch 34/100\n",
            "375/375 [==============================] - 1s 3ms/step - loss: 1.4020 - accuracy: 0.5218 - val_loss: 3.3327 - val_accuracy: 0.1010\n",
            "Epoch 35/100\n",
            "375/375 [==============================] - 1s 3ms/step - loss: 1.3776 - accuracy: 0.5317 - val_loss: 3.3518 - val_accuracy: 0.1032\n",
            "Epoch 36/100\n",
            "375/375 [==============================] - 1s 3ms/step - loss: 1.3568 - accuracy: 0.5379 - val_loss: 3.4091 - val_accuracy: 0.1010\n",
            "Epoch 37/100\n",
            "375/375 [==============================] - 1s 3ms/step - loss: 1.3333 - accuracy: 0.5447 - val_loss: 3.4710 - val_accuracy: 0.1037\n",
            "Epoch 38/100\n",
            "375/375 [==============================] - 1s 3ms/step - loss: 1.3118 - accuracy: 0.5545 - val_loss: 3.4973 - val_accuracy: 0.1019\n",
            "Epoch 39/100\n",
            "375/375 [==============================] - 1s 3ms/step - loss: 1.2889 - accuracy: 0.5621 - val_loss: 3.5243 - val_accuracy: 0.0995\n",
            "Epoch 40/100\n",
            "375/375 [==============================] - 1s 3ms/step - loss: 1.2705 - accuracy: 0.5707 - val_loss: 3.5734 - val_accuracy: 0.1021\n",
            "Epoch 41/100\n",
            "375/375 [==============================] - 1s 3ms/step - loss: 1.2483 - accuracy: 0.5770 - val_loss: 3.6314 - val_accuracy: 0.1027\n",
            "Epoch 42/100\n",
            "375/375 [==============================] - 1s 3ms/step - loss: 1.2288 - accuracy: 0.5858 - val_loss: 3.6697 - val_accuracy: 0.1004\n",
            "Epoch 43/100\n",
            "375/375 [==============================] - 1s 3ms/step - loss: 1.2078 - accuracy: 0.5929 - val_loss: 3.7532 - val_accuracy: 0.1030\n",
            "Epoch 44/100\n",
            "375/375 [==============================] - 1s 3ms/step - loss: 1.1877 - accuracy: 0.6008 - val_loss: 3.7901 - val_accuracy: 0.1000\n",
            "Epoch 45/100\n",
            "375/375 [==============================] - 1s 3ms/step - loss: 1.1692 - accuracy: 0.6043 - val_loss: 3.8528 - val_accuracy: 0.1020\n",
            "Epoch 46/100\n",
            "375/375 [==============================] - 1s 3ms/step - loss: 1.1508 - accuracy: 0.6126 - val_loss: 3.8999 - val_accuracy: 0.1013\n",
            "Epoch 47/100\n",
            "375/375 [==============================] - 1s 3ms/step - loss: 1.1316 - accuracy: 0.6210 - val_loss: 3.9606 - val_accuracy: 0.1002\n",
            "Epoch 48/100\n",
            "375/375 [==============================] - 1s 3ms/step - loss: 1.1159 - accuracy: 0.6241 - val_loss: 3.9979 - val_accuracy: 0.1025\n",
            "Epoch 49/100\n",
            "375/375 [==============================] - 1s 3ms/step - loss: 1.0984 - accuracy: 0.6301 - val_loss: 4.0340 - val_accuracy: 0.1012\n",
            "Epoch 50/100\n",
            "375/375 [==============================] - 1s 3ms/step - loss: 1.0793 - accuracy: 0.6395 - val_loss: 4.0891 - val_accuracy: 0.1010\n",
            "Epoch 51/100\n",
            "375/375 [==============================] - 1s 3ms/step - loss: 1.0627 - accuracy: 0.6460 - val_loss: 4.1266 - val_accuracy: 0.0991\n",
            "Epoch 52/100\n",
            "375/375 [==============================] - 1s 4ms/step - loss: 1.0484 - accuracy: 0.6501 - val_loss: 4.2139 - val_accuracy: 0.1019\n",
            "Epoch 53/100\n",
            "375/375 [==============================] - 2s 5ms/step - loss: 1.0299 - accuracy: 0.6563 - val_loss: 4.2465 - val_accuracy: 0.1040\n",
            "Epoch 54/100\n",
            "375/375 [==============================] - 2s 5ms/step - loss: 1.0144 - accuracy: 0.6608 - val_loss: 4.3481 - val_accuracy: 0.0996\n",
            "Epoch 55/100\n",
            "375/375 [==============================] - 1s 4ms/step - loss: 0.9951 - accuracy: 0.6674 - val_loss: 4.3660 - val_accuracy: 0.0996\n",
            "Epoch 56/100\n",
            "375/375 [==============================] - 2s 4ms/step - loss: 0.9829 - accuracy: 0.6722 - val_loss: 4.4229 - val_accuracy: 0.1016\n",
            "Epoch 57/100\n",
            "375/375 [==============================] - 2s 4ms/step - loss: 0.9652 - accuracy: 0.6788 - val_loss: 4.4623 - val_accuracy: 0.0989\n",
            "Epoch 58/100\n",
            "375/375 [==============================] - 1s 4ms/step - loss: 0.9531 - accuracy: 0.6840 - val_loss: 4.5761 - val_accuracy: 0.1013\n",
            "Epoch 59/100\n",
            "375/375 [==============================] - 1s 3ms/step - loss: 0.9363 - accuracy: 0.6878 - val_loss: 4.6108 - val_accuracy: 0.0968\n",
            "Epoch 60/100\n",
            "375/375 [==============================] - 1s 3ms/step - loss: 0.9227 - accuracy: 0.6933 - val_loss: 4.6765 - val_accuracy: 0.0979\n",
            "Epoch 61/100\n",
            "375/375 [==============================] - 1s 3ms/step - loss: 0.9099 - accuracy: 0.6973 - val_loss: 4.7092 - val_accuracy: 0.1006\n",
            "Epoch 62/100\n",
            "375/375 [==============================] - 1s 3ms/step - loss: 0.8949 - accuracy: 0.7025 - val_loss: 4.7458 - val_accuracy: 0.0999\n",
            "Epoch 63/100\n",
            "375/375 [==============================] - 1s 3ms/step - loss: 0.8809 - accuracy: 0.7059 - val_loss: 4.8877 - val_accuracy: 0.0977\n",
            "Epoch 64/100\n",
            "375/375 [==============================] - 1s 3ms/step - loss: 0.8682 - accuracy: 0.7106 - val_loss: 4.9393 - val_accuracy: 0.1020\n",
            "Epoch 65/100\n",
            "375/375 [==============================] - 1s 3ms/step - loss: 0.8556 - accuracy: 0.7159 - val_loss: 4.9999 - val_accuracy: 0.1023\n",
            "Epoch 66/100\n",
            "375/375 [==============================] - 1s 3ms/step - loss: 0.8415 - accuracy: 0.7219 - val_loss: 5.0212 - val_accuracy: 0.0972\n",
            "Epoch 67/100\n",
            "375/375 [==============================] - 1s 3ms/step - loss: 0.8290 - accuracy: 0.7264 - val_loss: 5.1008 - val_accuracy: 0.0987\n",
            "Epoch 68/100\n",
            "375/375 [==============================] - 1s 3ms/step - loss: 0.8148 - accuracy: 0.7295 - val_loss: 5.1536 - val_accuracy: 0.0997\n",
            "Epoch 69/100\n",
            "375/375 [==============================] - 1s 3ms/step - loss: 0.8041 - accuracy: 0.7349 - val_loss: 5.1970 - val_accuracy: 0.0977\n",
            "Epoch 70/100\n",
            "375/375 [==============================] - 1s 3ms/step - loss: 0.7914 - accuracy: 0.7395 - val_loss: 5.2364 - val_accuracy: 0.1015\n",
            "Epoch 71/100\n",
            "375/375 [==============================] - 1s 3ms/step - loss: 0.7797 - accuracy: 0.7420 - val_loss: 5.3541 - val_accuracy: 0.1018\n",
            "Epoch 72/100\n",
            "375/375 [==============================] - 1s 3ms/step - loss: 0.7665 - accuracy: 0.7470 - val_loss: 5.4277 - val_accuracy: 0.0991\n",
            "Epoch 73/100\n",
            "375/375 [==============================] - 1s 3ms/step - loss: 0.7574 - accuracy: 0.7503 - val_loss: 5.4720 - val_accuracy: 0.1006\n",
            "Epoch 74/100\n",
            "375/375 [==============================] - 1s 3ms/step - loss: 0.7450 - accuracy: 0.7545 - val_loss: 5.5465 - val_accuracy: 0.1004\n",
            "Epoch 75/100\n",
            "375/375 [==============================] - 1s 3ms/step - loss: 0.7355 - accuracy: 0.7571 - val_loss: 5.5790 - val_accuracy: 0.0993\n",
            "Epoch 76/100\n",
            "375/375 [==============================] - 1s 3ms/step - loss: 0.7233 - accuracy: 0.7625 - val_loss: 5.5913 - val_accuracy: 0.0988\n",
            "Epoch 77/100\n",
            "375/375 [==============================] - 1s 3ms/step - loss: 0.7145 - accuracy: 0.7673 - val_loss: 5.7104 - val_accuracy: 0.1018\n",
            "Epoch 78/100\n",
            "375/375 [==============================] - 1s 3ms/step - loss: 0.7017 - accuracy: 0.7688 - val_loss: 5.7730 - val_accuracy: 0.1011\n",
            "Epoch 79/100\n",
            "375/375 [==============================] - 1s 3ms/step - loss: 0.6900 - accuracy: 0.7729 - val_loss: 5.8101 - val_accuracy: 0.1032\n",
            "Epoch 80/100\n",
            "375/375 [==============================] - 1s 3ms/step - loss: 0.6797 - accuracy: 0.7769 - val_loss: 5.8683 - val_accuracy: 0.1028\n",
            "Epoch 81/100\n",
            "375/375 [==============================] - 1s 4ms/step - loss: 0.6707 - accuracy: 0.7806 - val_loss: 5.9419 - val_accuracy: 0.1003\n",
            "Epoch 82/100\n",
            "375/375 [==============================] - 1s 3ms/step - loss: 0.6580 - accuracy: 0.7866 - val_loss: 6.0593 - val_accuracy: 0.0980\n",
            "Epoch 83/100\n",
            "375/375 [==============================] - 1s 3ms/step - loss: 0.6518 - accuracy: 0.7863 - val_loss: 6.0703 - val_accuracy: 0.1027\n",
            "Epoch 84/100\n",
            "375/375 [==============================] - 1s 3ms/step - loss: 0.6413 - accuracy: 0.7900 - val_loss: 6.1731 - val_accuracy: 0.1006\n",
            "Epoch 85/100\n",
            "375/375 [==============================] - 1s 3ms/step - loss: 0.6323 - accuracy: 0.7947 - val_loss: 6.2213 - val_accuracy: 0.1020\n",
            "Epoch 86/100\n",
            "375/375 [==============================] - 1s 3ms/step - loss: 0.6242 - accuracy: 0.7966 - val_loss: 6.2532 - val_accuracy: 0.1008\n",
            "Epoch 87/100\n",
            "375/375 [==============================] - 1s 3ms/step - loss: 0.6122 - accuracy: 0.8018 - val_loss: 6.3338 - val_accuracy: 0.0996\n",
            "Epoch 88/100\n",
            "375/375 [==============================] - 1s 3ms/step - loss: 0.6027 - accuracy: 0.8051 - val_loss: 6.4121 - val_accuracy: 0.0994\n",
            "Epoch 89/100\n",
            "375/375 [==============================] - 1s 3ms/step - loss: 0.5960 - accuracy: 0.8075 - val_loss: 6.4690 - val_accuracy: 0.1014\n",
            "Epoch 90/100\n",
            "375/375 [==============================] - 1s 3ms/step - loss: 0.5843 - accuracy: 0.8094 - val_loss: 6.5581 - val_accuracy: 0.1019\n",
            "Epoch 91/100\n",
            "375/375 [==============================] - 1s 3ms/step - loss: 0.5773 - accuracy: 0.8136 - val_loss: 6.5979 - val_accuracy: 0.1018\n",
            "Epoch 92/100\n",
            "375/375 [==============================] - 1s 3ms/step - loss: 0.5685 - accuracy: 0.8162 - val_loss: 6.6651 - val_accuracy: 0.1024\n",
            "Epoch 93/100\n",
            "375/375 [==============================] - 1s 3ms/step - loss: 0.5615 - accuracy: 0.8176 - val_loss: 6.7524 - val_accuracy: 0.1032\n",
            "Epoch 94/100\n",
            "375/375 [==============================] - 1s 3ms/step - loss: 0.5517 - accuracy: 0.8210 - val_loss: 6.7881 - val_accuracy: 0.1020\n",
            "Epoch 95/100\n",
            "375/375 [==============================] - 1s 3ms/step - loss: 0.5436 - accuracy: 0.8251 - val_loss: 6.8856 - val_accuracy: 0.1007\n",
            "Epoch 96/100\n",
            "375/375 [==============================] - 1s 3ms/step - loss: 0.5363 - accuracy: 0.8276 - val_loss: 6.9695 - val_accuracy: 0.1036\n",
            "Epoch 97/100\n",
            "375/375 [==============================] - 1s 3ms/step - loss: 0.5279 - accuracy: 0.8287 - val_loss: 7.0375 - val_accuracy: 0.1023\n",
            "Epoch 98/100\n",
            "375/375 [==============================] - 1s 3ms/step - loss: 0.5210 - accuracy: 0.8325 - val_loss: 7.0681 - val_accuracy: 0.1051\n",
            "Epoch 99/100\n",
            "375/375 [==============================] - 1s 3ms/step - loss: 0.5137 - accuracy: 0.8353 - val_loss: 7.1575 - val_accuracy: 0.1006\n",
            "Epoch 100/100\n",
            "375/375 [==============================] - 1s 3ms/step - loss: 0.5057 - accuracy: 0.8382 - val_loss: 7.1992 - val_accuracy: 0.1001\n"
          ]
        },
        {
          "output_type": "execute_result",
          "data": {
            "text/plain": [
              "<keras.callbacks.History at 0x7fbd802c81d0>"
            ]
          },
          "metadata": {},
          "execution_count": 4
        }
      ],
      "source": [
        "(train_images, train_labels), _ = mnist.load_data()\n",
        "train_images = train_images.reshape((60000, 28 * 28))\n",
        "train_images = train_images.astype(\"float32\") / 255\n",
        "\n",
        "random_train_labels = train_labels[:]\n",
        "np.random.shuffle(random_train_labels)\n",
        "\n",
        "model = keras.Sequential([\n",
        "    layers.Dense(512, activation=\"relu\"),\n",
        "    layers.Dense(10, activation=\"softmax\")\n",
        "])\n",
        "model.compile(optimizer=\"rmsprop\",\n",
        "              loss=\"sparse_categorical_crossentropy\",\n",
        "              metrics=[\"accuracy\"])\n",
        "model.fit(train_images, random_train_labels,\n",
        "          epochs=100,\n",
        "          batch_size=128,\n",
        "          validation_split=0.2)"
      ]
    },
    {
      "cell_type": "markdown",
      "metadata": {
        "id": "hIV4ltiqpEC1"
      },
      "source": [
        "#### The manifold hypothesis"
      ]
    },
    {
      "cell_type": "markdown",
      "metadata": {
        "id": "y31HtGPnpEC1"
      },
      "source": [
        "#### Interpolation as a source of generalization"
      ]
    },
    {
      "cell_type": "markdown",
      "metadata": {
        "id": "LedHBu7XpEC2"
      },
      "source": [
        "#### Why deep learning works"
      ]
    },
    {
      "cell_type": "markdown",
      "metadata": {
        "id": "89kTllgqpEC2"
      },
      "source": [
        "#### Training data is paramount"
      ]
    },
    {
      "cell_type": "markdown",
      "metadata": {
        "id": "CoHQpyCspEC2"
      },
      "source": [
        "## Evaluating machine-learning models"
      ]
    },
    {
      "cell_type": "markdown",
      "metadata": {
        "id": "ikKrqWr5pEC3"
      },
      "source": [
        "### Training, validation, and test sets"
      ]
    },
    {
      "cell_type": "markdown",
      "metadata": {
        "id": "159F4y1npEC3"
      },
      "source": [
        "#### Simple hold-out validation"
      ]
    },
    {
      "cell_type": "markdown",
      "metadata": {
        "id": "H8NibuDapEC4"
      },
      "source": [
        "#### K-fold validation"
      ]
    },
    {
      "cell_type": "markdown",
      "metadata": {
        "id": "WQ8h99zzpEC4"
      },
      "source": [
        "#### Iterated K-fold validation with shuffling"
      ]
    },
    {
      "cell_type": "markdown",
      "metadata": {
        "id": "2XeSedPCpEC4"
      },
      "source": [
        "### Beating a common-sense baseline"
      ]
    },
    {
      "cell_type": "markdown",
      "metadata": {
        "id": "hgtqHedopEC5"
      },
      "source": [
        "### Things to keep in mind about model evaluation"
      ]
    },
    {
      "cell_type": "markdown",
      "metadata": {
        "id": "vvWLzDOCpEC5"
      },
      "source": [
        "## Improving model fit"
      ]
    },
    {
      "cell_type": "markdown",
      "metadata": {
        "id": "yRLlDdVlpEC5"
      },
      "source": [
        "### Tuning key gradient descent parameters"
      ]
    },
    {
      "cell_type": "markdown",
      "metadata": {
        "id": "k7RMOzgUpEC5"
      },
      "source": [
        "**Training a MNIST model with an incorrectly high learning rate**"
      ]
    },
    {
      "cell_type": "code",
      "execution_count": 5,
      "metadata": {
        "id": "E7SGX5UypEC6",
        "colab": {
          "base_uri": "https://localhost:8080/"
        },
        "outputId": "1ab7e6ee-9c95-47fe-8922-8f8bffabac15"
      },
      "outputs": [
        {
          "output_type": "stream",
          "name": "stdout",
          "text": [
            "Epoch 1/10\n",
            "375/375 [==============================] - 2s 4ms/step - loss: 701.3910 - accuracy: 0.3832 - val_loss: 2.2474 - val_accuracy: 0.2049\n",
            "Epoch 2/10\n",
            "375/375 [==============================] - 1s 3ms/step - loss: 3.6999 - accuracy: 0.2527 - val_loss: 2.2765 - val_accuracy: 0.2330\n",
            "Epoch 3/10\n",
            "375/375 [==============================] - 1s 3ms/step - loss: 2.8781 - accuracy: 0.2154 - val_loss: 2.3085 - val_accuracy: 0.1806\n",
            "Epoch 4/10\n",
            "375/375 [==============================] - 1s 3ms/step - loss: 2.9314 - accuracy: 0.2396 - val_loss: 2.1460 - val_accuracy: 0.2393\n",
            "Epoch 5/10\n",
            "375/375 [==============================] - 1s 3ms/step - loss: 2.5310 - accuracy: 0.2403 - val_loss: 2.0652 - val_accuracy: 0.2387\n",
            "Epoch 6/10\n",
            "375/375 [==============================] - 1s 3ms/step - loss: 2.7426 - accuracy: 0.2331 - val_loss: 2.1170 - val_accuracy: 0.1942\n",
            "Epoch 7/10\n",
            "375/375 [==============================] - 1s 3ms/step - loss: 2.4749 - accuracy: 0.2523 - val_loss: 2.3069 - val_accuracy: 0.2550\n",
            "Epoch 8/10\n",
            "375/375 [==============================] - 1s 3ms/step - loss: 2.5723 - accuracy: 0.2552 - val_loss: 2.4623 - val_accuracy: 0.2505\n",
            "Epoch 9/10\n",
            "375/375 [==============================] - 1s 3ms/step - loss: 2.5677 - accuracy: 0.2699 - val_loss: 2.4964 - val_accuracy: 0.2674\n",
            "Epoch 10/10\n",
            "375/375 [==============================] - 1s 3ms/step - loss: 2.5744 - accuracy: 0.2759 - val_loss: 1.9170 - val_accuracy: 0.2793\n"
          ]
        },
        {
          "output_type": "execute_result",
          "data": {
            "text/plain": [
              "<keras.callbacks.History at 0x7fbd120dcb50>"
            ]
          },
          "metadata": {},
          "execution_count": 5
        }
      ],
      "source": [
        "(train_images, train_labels), _ = mnist.load_data()\n",
        "train_images = train_images.reshape((60000, 28 * 28))\n",
        "train_images = train_images.astype(\"float32\") / 255\n",
        "\n",
        "model = keras.Sequential([\n",
        "    layers.Dense(512, activation=\"relu\"),\n",
        "    layers.Dense(10, activation=\"softmax\")\n",
        "])\n",
        "model.compile(optimizer=keras.optimizers.RMSprop(1.),\n",
        "              loss=\"sparse_categorical_crossentropy\",\n",
        "              metrics=[\"accuracy\"])\n",
        "model.fit(train_images, train_labels,\n",
        "          epochs=10,\n",
        "          batch_size=128,\n",
        "          validation_split=0.2)"
      ]
    },
    {
      "cell_type": "markdown",
      "metadata": {
        "id": "9Pifck1GpEC6"
      },
      "source": [
        "**The same model with a more appropriate learning rate**"
      ]
    },
    {
      "cell_type": "code",
      "execution_count": 6,
      "metadata": {
        "id": "-PJ2kcC4pEC6",
        "colab": {
          "base_uri": "https://localhost:8080/"
        },
        "outputId": "ff469c1c-ac31-4114-abba-e0d7a4c61730"
      },
      "outputs": [
        {
          "output_type": "stream",
          "name": "stdout",
          "text": [
            "Epoch 1/10\n",
            "375/375 [==============================] - 2s 4ms/step - loss: 0.3948 - accuracy: 0.9075 - val_loss: 0.1531 - val_accuracy: 0.9617\n",
            "Epoch 2/10\n",
            "375/375 [==============================] - 1s 3ms/step - loss: 0.1416 - accuracy: 0.9632 - val_loss: 0.2005 - val_accuracy: 0.9543\n",
            "Epoch 3/10\n",
            "375/375 [==============================] - 1s 3ms/step - loss: 0.1168 - accuracy: 0.9730 - val_loss: 0.1618 - val_accuracy: 0.9678\n",
            "Epoch 4/10\n",
            "375/375 [==============================] - 1s 3ms/step - loss: 0.1047 - accuracy: 0.9766 - val_loss: 0.2093 - val_accuracy: 0.9664\n",
            "Epoch 5/10\n",
            "375/375 [==============================] - 1s 3ms/step - loss: 0.0934 - accuracy: 0.9814 - val_loss: 0.2200 - val_accuracy: 0.9679\n",
            "Epoch 6/10\n",
            "375/375 [==============================] - 1s 3ms/step - loss: 0.0821 - accuracy: 0.9844 - val_loss: 0.2392 - val_accuracy: 0.9706\n",
            "Epoch 7/10\n",
            "375/375 [==============================] - 1s 3ms/step - loss: 0.0733 - accuracy: 0.9863 - val_loss: 0.2304 - val_accuracy: 0.9726\n",
            "Epoch 8/10\n",
            "375/375 [==============================] - 1s 3ms/step - loss: 0.0647 - accuracy: 0.9872 - val_loss: 0.2426 - val_accuracy: 0.9756\n",
            "Epoch 9/10\n",
            "375/375 [==============================] - 1s 3ms/step - loss: 0.0658 - accuracy: 0.9884 - val_loss: 0.2933 - val_accuracy: 0.9741\n",
            "Epoch 10/10\n",
            "375/375 [==============================] - 1s 3ms/step - loss: 0.0572 - accuracy: 0.9899 - val_loss: 0.3441 - val_accuracy: 0.9703\n"
          ]
        },
        {
          "output_type": "execute_result",
          "data": {
            "text/plain": [
              "<keras.callbacks.History at 0x7fbcfe4f3d90>"
            ]
          },
          "metadata": {},
          "execution_count": 6
        }
      ],
      "source": [
        "model = keras.Sequential([\n",
        "    layers.Dense(512, activation=\"relu\"),\n",
        "    layers.Dense(10, activation=\"softmax\")\n",
        "])\n",
        "model.compile(optimizer=keras.optimizers.RMSprop(1e-2),\n",
        "              loss=\"sparse_categorical_crossentropy\",\n",
        "              metrics=[\"accuracy\"])\n",
        "model.fit(train_images, train_labels,\n",
        "          epochs=10,\n",
        "          batch_size=128,\n",
        "          validation_split=0.2)"
      ]
    },
    {
      "cell_type": "markdown",
      "metadata": {
        "id": "W8TtTpiCpEC6"
      },
      "source": [
        "### Leveraging better architecture priors"
      ]
    },
    {
      "cell_type": "markdown",
      "metadata": {
        "id": "rNaa7wIKpEC6"
      },
      "source": [
        "### Increasing model capacity"
      ]
    },
    {
      "cell_type": "markdown",
      "metadata": {
        "id": "KbY-BzWjpEC7"
      },
      "source": [
        "**A simple logistic regression on MNIST**"
      ]
    },
    {
      "cell_type": "code",
      "execution_count": 7,
      "metadata": {
        "id": "gg_lf_KNpEC7",
        "colab": {
          "base_uri": "https://localhost:8080/"
        },
        "outputId": "105a2c83-b51a-44d8-8042-5ef43dafa864"
      },
      "outputs": [
        {
          "output_type": "stream",
          "name": "stdout",
          "text": [
            "Epoch 1/20\n",
            "375/375 [==============================] - 1s 3ms/step - loss: 0.6587 - accuracy: 0.8414 - val_loss: 0.3561 - val_accuracy: 0.9069\n",
            "Epoch 2/20\n",
            "375/375 [==============================] - 1s 3ms/step - loss: 0.3501 - accuracy: 0.9039 - val_loss: 0.3088 - val_accuracy: 0.9137\n",
            "Epoch 3/20\n",
            "375/375 [==============================] - 1s 3ms/step - loss: 0.3150 - accuracy: 0.9130 - val_loss: 0.2902 - val_accuracy: 0.9196\n",
            "Epoch 4/20\n",
            "375/375 [==============================] - 1s 3ms/step - loss: 0.2989 - accuracy: 0.9166 - val_loss: 0.2816 - val_accuracy: 0.9215\n",
            "Epoch 5/20\n",
            "375/375 [==============================] - 1s 2ms/step - loss: 0.2894 - accuracy: 0.9195 - val_loss: 0.2755 - val_accuracy: 0.9256\n",
            "Epoch 6/20\n",
            "375/375 [==============================] - 1s 3ms/step - loss: 0.2827 - accuracy: 0.9216 - val_loss: 0.2744 - val_accuracy: 0.9218\n",
            "Epoch 7/20\n",
            "375/375 [==============================] - 1s 3ms/step - loss: 0.2778 - accuracy: 0.9227 - val_loss: 0.2701 - val_accuracy: 0.9258\n",
            "Epoch 8/20\n",
            "375/375 [==============================] - 1s 3ms/step - loss: 0.2742 - accuracy: 0.9242 - val_loss: 0.2675 - val_accuracy: 0.9271\n",
            "Epoch 9/20\n",
            "375/375 [==============================] - 1s 3ms/step - loss: 0.2712 - accuracy: 0.9242 - val_loss: 0.2663 - val_accuracy: 0.9283\n",
            "Epoch 10/20\n",
            "375/375 [==============================] - 1s 3ms/step - loss: 0.2687 - accuracy: 0.9257 - val_loss: 0.2638 - val_accuracy: 0.9292\n",
            "Epoch 11/20\n",
            "375/375 [==============================] - 1s 2ms/step - loss: 0.2665 - accuracy: 0.9261 - val_loss: 0.2652 - val_accuracy: 0.9287\n",
            "Epoch 12/20\n",
            "375/375 [==============================] - 1s 3ms/step - loss: 0.2645 - accuracy: 0.9272 - val_loss: 0.2634 - val_accuracy: 0.9287\n",
            "Epoch 13/20\n",
            "375/375 [==============================] - 1s 2ms/step - loss: 0.2629 - accuracy: 0.9275 - val_loss: 0.2641 - val_accuracy: 0.9300\n",
            "Epoch 14/20\n",
            "375/375 [==============================] - 1s 3ms/step - loss: 0.2616 - accuracy: 0.9281 - val_loss: 0.2621 - val_accuracy: 0.9297\n",
            "Epoch 15/20\n",
            "375/375 [==============================] - 1s 3ms/step - loss: 0.2601 - accuracy: 0.9278 - val_loss: 0.2620 - val_accuracy: 0.9302\n",
            "Epoch 16/20\n",
            "375/375 [==============================] - 1s 2ms/step - loss: 0.2592 - accuracy: 0.9293 - val_loss: 0.2615 - val_accuracy: 0.9303\n",
            "Epoch 17/20\n",
            "375/375 [==============================] - 1s 3ms/step - loss: 0.2581 - accuracy: 0.9298 - val_loss: 0.2637 - val_accuracy: 0.9298\n",
            "Epoch 18/20\n",
            "375/375 [==============================] - 1s 3ms/step - loss: 0.2571 - accuracy: 0.9301 - val_loss: 0.2618 - val_accuracy: 0.9309\n",
            "Epoch 19/20\n",
            "375/375 [==============================] - 1s 3ms/step - loss: 0.2562 - accuracy: 0.9301 - val_loss: 0.2603 - val_accuracy: 0.9318\n",
            "Epoch 20/20\n",
            "375/375 [==============================] - 1s 3ms/step - loss: 0.2555 - accuracy: 0.9303 - val_loss: 0.2613 - val_accuracy: 0.9312\n"
          ]
        }
      ],
      "source": [
        "model = keras.Sequential([layers.Dense(10, activation=\"softmax\")])\n",
        "model.compile(optimizer=\"rmsprop\",\n",
        "              loss=\"sparse_categorical_crossentropy\",\n",
        "              metrics=[\"accuracy\"])\n",
        "history_small_model = model.fit(\n",
        "    train_images, train_labels,\n",
        "    epochs=20,\n",
        "    batch_size=128,\n",
        "    validation_split=0.2)"
      ]
    },
    {
      "cell_type": "code",
      "execution_count": 8,
      "metadata": {
        "id": "xO7nnz9LpEC7",
        "colab": {
          "base_uri": "https://localhost:8080/",
          "height": 313
        },
        "outputId": "0f46438b-c613-49f2-9bf4-ec04773206cc"
      },
      "outputs": [
        {
          "output_type": "execute_result",
          "data": {
            "text/plain": [
              "<matplotlib.legend.Legend at 0x7fbd8015c4d0>"
            ]
          },
          "metadata": {},
          "execution_count": 8
        },
        {
          "output_type": "display_data",
          "data": {
            "text/plain": [
              "<Figure size 432x288 with 1 Axes>"
            ],
            "image/png": "[encoded data removed]"
          },
          "metadata": {
            "needs_background": "light"
          }
        }
      ],
      "source": [
        "import matplotlib.pyplot as plt\n",
        "val_loss = history_small_model.history[\"val_loss\"]\n",
        "epochs = range(1, 21)\n",
        "plt.plot(epochs, val_loss, \"b--\",\n",
        "         label=\"Validation loss\")\n",
        "plt.title(\"Effect of insufficient model capacity on validation loss\")\n",
        "plt.xlabel(\"Epochs\")\n",
        "plt.ylabel(\"Loss\")\n",
        "plt.legend()"
      ]
    },
    {
      "cell_type": "code",
      "execution_count": 9,
      "metadata": {
        "id": "eJUQr7cqpEC7",
        "colab": {
          "base_uri": "https://localhost:8080/"
        },
        "outputId": "001c5503-d288-49c2-d8f6-211b372acd73"
      },
      "outputs": [
        {
          "output_type": "stream",
          "name": "stdout",
          "text": [
            "Epoch 1/20\n",
            "375/375 [==============================] - 2s 3ms/step - loss: 0.3577 - accuracy: 0.8999 - val_loss: 0.1865 - val_accuracy: 0.9444\n",
            "Epoch 2/20\n",
            "375/375 [==============================] - 1s 3ms/step - loss: 0.1591 - accuracy: 0.9527 - val_loss: 0.1382 - val_accuracy: 0.9598\n",
            "Epoch 3/20\n",
            "375/375 [==============================] - 1s 3ms/step - loss: 0.1123 - accuracy: 0.9661 - val_loss: 0.1216 - val_accuracy: 0.9643\n",
            "Epoch 4/20\n",
            "375/375 [==============================] - 1s 3ms/step - loss: 0.0874 - accuracy: 0.9731 - val_loss: 0.1029 - val_accuracy: 0.9704\n",
            "Epoch 5/20\n",
            "375/375 [==============================] - 1s 3ms/step - loss: 0.0705 - accuracy: 0.9788 - val_loss: 0.1004 - val_accuracy: 0.9714\n",
            "Epoch 6/20\n",
            "375/375 [==============================] - 1s 3ms/step - loss: 0.0581 - accuracy: 0.9819 - val_loss: 0.0939 - val_accuracy: 0.9737\n",
            "Epoch 7/20\n",
            "375/375 [==============================] - 1s 3ms/step - loss: 0.0483 - accuracy: 0.9853 - val_loss: 0.0979 - val_accuracy: 0.9722\n",
            "Epoch 8/20\n",
            "375/375 [==============================] - 1s 3ms/step - loss: 0.0403 - accuracy: 0.9877 - val_loss: 0.0892 - val_accuracy: 0.9755\n",
            "Epoch 9/20\n",
            "375/375 [==============================] - 1s 3ms/step - loss: 0.0335 - accuracy: 0.9893 - val_loss: 0.0931 - val_accuracy: 0.9759\n",
            "Epoch 10/20\n",
            "375/375 [==============================] - 1s 3ms/step - loss: 0.0282 - accuracy: 0.9912 - val_loss: 0.1086 - val_accuracy: 0.9732\n",
            "Epoch 11/20\n",
            "375/375 [==============================] - 1s 3ms/step - loss: 0.0245 - accuracy: 0.9919 - val_loss: 0.0940 - val_accuracy: 0.9759\n",
            "Epoch 12/20\n",
            "375/375 [==============================] - 1s 3ms/step - loss: 0.0207 - accuracy: 0.9937 - val_loss: 0.1048 - val_accuracy: 0.9766\n",
            "Epoch 13/20\n",
            "375/375 [==============================] - 1s 3ms/step - loss: 0.0178 - accuracy: 0.9946 - val_loss: 0.1060 - val_accuracy: 0.9751\n",
            "Epoch 14/20\n",
            "375/375 [==============================] - 1s 3ms/step - loss: 0.0146 - accuracy: 0.9954 - val_loss: 0.1130 - val_accuracy: 0.9753\n",
            "Epoch 15/20\n",
            "375/375 [==============================] - 1s 3ms/step - loss: 0.0125 - accuracy: 0.9962 - val_loss: 0.1174 - val_accuracy: 0.9767\n",
            "Epoch 16/20\n",
            "375/375 [==============================] - 1s 3ms/step - loss: 0.0106 - accuracy: 0.9964 - val_loss: 0.1215 - val_accuracy: 0.9750\n",
            "Epoch 17/20\n",
            "375/375 [==============================] - 1s 3ms/step - loss: 0.0087 - accuracy: 0.9974 - val_loss: 0.1266 - val_accuracy: 0.9760\n",
            "Epoch 18/20\n",
            "375/375 [==============================] - 1s 3ms/step - loss: 0.0080 - accuracy: 0.9976 - val_loss: 0.1263 - val_accuracy: 0.9773\n",
            "Epoch 19/20\n",
            "375/375 [==============================] - 1s 3ms/step - loss: 0.0065 - accuracy: 0.9979 - val_loss: 0.1333 - val_accuracy: 0.9759\n",
            "Epoch 20/20\n",
            "375/375 [==============================] - 1s 3ms/step - loss: 0.0057 - accuracy: 0.9983 - val_loss: 0.1383 - val_accuracy: 0.9772\n"
          ]
        }
      ],
      "source": [
        "model = keras.Sequential([\n",
        "    layers.Dense(96, activation=\"relu\"),\n",
        "    layers.Dense(96, activation=\"relu\"),\n",
        "    layers.Dense(10, activation=\"softmax\"),\n",
        "])\n",
        "model.compile(optimizer=\"rmsprop\",\n",
        "              loss=\"sparse_categorical_crossentropy\",\n",
        "              metrics=[\"accuracy\"])\n",
        "history_large_model = model.fit(\n",
        "    train_images, train_labels,\n",
        "    epochs=20,\n",
        "    batch_size=128,\n",
        "    validation_split=0.2)"
      ]
    },
    {
      "cell_type": "markdown",
      "metadata": {
        "id": "-V4EZEtUpEC7"
      },
      "source": [
        "## Improving generalization"
      ]
    },
    {
      "cell_type": "markdown",
      "metadata": {
        "id": "Xf5KzdG-pEC7"
      },
      "source": [
        "### Dataset curation"
      ]
    },
    {
      "cell_type": "markdown",
      "metadata": {
        "id": "zJ80ze1epEC8"
      },
      "source": [
        "### Feature engineering"
      ]
    },
    {
      "cell_type": "markdown",
      "metadata": {
        "id": "VcPpdEDMpEC8"
      },
      "source": [
        "### Using early stopping"
      ]
    },
    {
      "cell_type": "markdown",
      "metadata": {
        "id": "6JGkhU59pEC8"
      },
      "source": [
        "### Regularizing your model"
      ]
    },
    {
      "cell_type": "markdown",
      "metadata": {
        "id": "WcXIsS8apEC8"
      },
      "source": [
        "#### Reducing the network's size"
      ]
    },
    {
      "cell_type": "markdown",
      "metadata": {
        "id": "s0sPOmhgpEC8"
      },
      "source": [
        "**Original model**"
      ]
    },
    {
      "cell_type": "code",
      "execution_count": 10,
      "metadata": {
        "id": "mlK116wSpEC8",
        "colab": {
          "base_uri": "https://localhost:8080/"
        },
        "outputId": "9abcc9d3-efef-48d5-fa3d-05e22e33df5b"
      },
      "outputs": [
        {
          "output_type": "stream",
          "name": "stdout",
          "text": [
            "Downloading data from https://storage.googleapis.com/tensorflow/tf-keras-datasets/imdb.npz\n",
            "17465344/17464789 [==============================] - 0s 0us/step\n",
            "17473536/17464789 [==============================] - 0s 0us/step\n",
            "Epoch 1/20\n",
            "30/30 [==============================] - 2s 42ms/step - loss: 0.5786 - accuracy: 0.7347 - val_loss: 0.4566 - val_accuracy: 0.8318\n",
            "Epoch 2/20\n",
            "30/30 [==============================] - 1s 19ms/step - loss: 0.3621 - accuracy: 0.8938 - val_loss: 0.3478 - val_accuracy: 0.8720\n",
            "Epoch 3/20\n",
            "30/30 [==============================] - 1s 19ms/step - loss: 0.2597 - accuracy: 0.9210 - val_loss: 0.3213 - val_accuracy: 0.8688\n",
            "Epoch 4/20\n",
            "30/30 [==============================] - 1s 19ms/step - loss: 0.2012 - accuracy: 0.9383 - val_loss: 0.2737 - val_accuracy: 0.8934\n",
            "Epoch 5/20\n",
            "30/30 [==============================] - 1s 19ms/step - loss: 0.1644 - accuracy: 0.9482 - val_loss: 0.2792 - val_accuracy: 0.8883\n",
            "Epoch 6/20\n",
            "30/30 [==============================] - 1s 23ms/step - loss: 0.1356 - accuracy: 0.9589 - val_loss: 0.3031 - val_accuracy: 0.8783\n",
            "Epoch 7/20\n",
            "30/30 [==============================] - 1s 19ms/step - loss: 0.1145 - accuracy: 0.9650 - val_loss: 0.2898 - val_accuracy: 0.8877\n",
            "Epoch 8/20\n",
            "30/30 [==============================] - 1s 19ms/step - loss: 0.0939 - accuracy: 0.9733 - val_loss: 0.3422 - val_accuracy: 0.8750\n",
            "Epoch 9/20\n",
            "30/30 [==============================] - 1s 19ms/step - loss: 0.0790 - accuracy: 0.9776 - val_loss: 0.3360 - val_accuracy: 0.8795\n",
            "Epoch 10/20\n",
            "30/30 [==============================] - 1s 19ms/step - loss: 0.0640 - accuracy: 0.9838 - val_loss: 0.3463 - val_accuracy: 0.8808\n",
            "Epoch 11/20\n",
            "30/30 [==============================] - 1s 19ms/step - loss: 0.0539 - accuracy: 0.9871 - val_loss: 0.3686 - val_accuracy: 0.8800\n",
            "Epoch 12/20\n",
            "30/30 [==============================] - 1s 19ms/step - loss: 0.0429 - accuracy: 0.9909 - val_loss: 0.4026 - val_accuracy: 0.8753\n",
            "Epoch 13/20\n",
            "30/30 [==============================] - 1s 20ms/step - loss: 0.0352 - accuracy: 0.9927 - val_loss: 0.4201 - val_accuracy: 0.8756\n",
            "Epoch 14/20\n",
            "30/30 [==============================] - 1s 19ms/step - loss: 0.0277 - accuracy: 0.9948 - val_loss: 0.4479 - val_accuracy: 0.8750\n",
            "Epoch 15/20\n",
            "30/30 [==============================] - 1s 19ms/step - loss: 0.0225 - accuracy: 0.9965 - val_loss: 0.4796 - val_accuracy: 0.8738\n",
            "Epoch 16/20\n",
            "30/30 [==============================] - 1s 23ms/step - loss: 0.0172 - accuracy: 0.9971 - val_loss: 0.5126 - val_accuracy: 0.8728\n",
            "Epoch 17/20\n",
            "30/30 [==============================] - 1s 19ms/step - loss: 0.0120 - accuracy: 0.9985 - val_loss: 0.5466 - val_accuracy: 0.8707\n",
            "Epoch 18/20\n",
            "30/30 [==============================] - 1s 19ms/step - loss: 0.0096 - accuracy: 0.9989 - val_loss: 0.5946 - val_accuracy: 0.8688\n",
            "Epoch 19/20\n",
            "30/30 [==============================] - 1s 19ms/step - loss: 0.0079 - accuracy: 0.9992 - val_loss: 0.6076 - val_accuracy: 0.8705\n",
            "Epoch 20/20\n",
            "30/30 [==============================] - 1s 19ms/step - loss: 0.0058 - accuracy: 0.9991 - val_loss: 0.6355 - val_accuracy: 0.8692\n"
          ]
        }
      ],
      "source": [
        "from tensorflow.keras.datasets import imdb\n",
        "(train_data, train_labels), _ = imdb.load_data(num_words=10000)\n",
        "\n",
        "def vectorize_sequences(sequences, dimension=10000):\n",
        "    results = np.zeros((len(sequences), dimension))\n",
        "    for i, sequence in enumerate(sequences):\n",
        "        results[i, sequence] = 1.\n",
        "    return results\n",
        "train_data = vectorize_sequences(train_data)\n",
        "\n",
        "model = keras.Sequential([\n",
        "    layers.Dense(16, activation=\"relu\"),\n",
        "    layers.Dense(16, activation=\"relu\"),\n",
        "    layers.Dense(1, activation=\"sigmoid\")\n",
        "])\n",
        "model.compile(optimizer=\"rmsprop\",\n",
        "              loss=\"binary_crossentropy\",\n",
        "              metrics=[\"accuracy\"])\n",
        "history_original = model.fit(train_data, train_labels,\n",
        "                             epochs=20, batch_size=512, validation_split=0.4)"
      ]
    },
    {
      "cell_type": "markdown",
      "metadata": {
        "id": "zNSEBk7HpEC8"
      },
      "source": [
        "**Version of the model with lower capacity**"
      ]
    },
    {
      "cell_type": "code",
      "execution_count": 11,
      "metadata": {
        "id": "9UMWZY4IpEC9",
        "colab": {
          "base_uri": "https://localhost:8080/"
        },
        "outputId": "d861acb8-6c95-429c-87d7-19a71adeafef"
      },
      "outputs": [
        {
          "output_type": "stream",
          "name": "stdout",
          "text": [
            "Epoch 1/20\n",
            "30/30 [==============================] - 1s 33ms/step - loss: 0.6015 - accuracy: 0.7393 - val_loss: 0.5110 - val_accuracy: 0.8568\n",
            "Epoch 2/20\n",
            "30/30 [==============================] - 1s 23ms/step - loss: 0.4434 - accuracy: 0.8786 - val_loss: 0.4157 - val_accuracy: 0.8740\n",
            "Epoch 3/20\n",
            "30/30 [==============================] - 1s 19ms/step - loss: 0.3498 - accuracy: 0.9050 - val_loss: 0.3496 - val_accuracy: 0.8841\n",
            "Epoch 4/20\n",
            "30/30 [==============================] - 1s 19ms/step - loss: 0.2838 - accuracy: 0.9196 - val_loss: 0.3166 - val_accuracy: 0.8861\n",
            "Epoch 5/20\n",
            "30/30 [==============================] - 1s 19ms/step - loss: 0.2383 - accuracy: 0.9300 - val_loss: 0.2937 - val_accuracy: 0.8885\n",
            "Epoch 6/20\n",
            "30/30 [==============================] - 1s 19ms/step - loss: 0.2045 - accuracy: 0.9402 - val_loss: 0.2779 - val_accuracy: 0.8939\n",
            "Epoch 7/20\n",
            "30/30 [==============================] - 1s 19ms/step - loss: 0.1770 - accuracy: 0.9491 - val_loss: 0.2724 - val_accuracy: 0.8928\n",
            "Epoch 8/20\n",
            "30/30 [==============================] - 1s 19ms/step - loss: 0.1560 - accuracy: 0.9549 - val_loss: 0.2718 - val_accuracy: 0.8920\n",
            "Epoch 9/20\n",
            "30/30 [==============================] - 1s 19ms/step - loss: 0.1377 - accuracy: 0.9599 - val_loss: 0.2777 - val_accuracy: 0.8896\n",
            "Epoch 10/20\n",
            "30/30 [==============================] - 1s 19ms/step - loss: 0.1226 - accuracy: 0.9655 - val_loss: 0.2808 - val_accuracy: 0.8892\n",
            "Epoch 11/20\n",
            "30/30 [==============================] - 1s 19ms/step - loss: 0.1092 - accuracy: 0.9701 - val_loss: 0.2862 - val_accuracy: 0.8887\n",
            "Epoch 12/20\n",
            "30/30 [==============================] - 1s 20ms/step - loss: 0.0973 - accuracy: 0.9736 - val_loss: 0.2952 - val_accuracy: 0.8879\n",
            "Epoch 13/20\n",
            "30/30 [==============================] - 1s 19ms/step - loss: 0.0870 - accuracy: 0.9767 - val_loss: 0.3080 - val_accuracy: 0.8841\n",
            "Epoch 14/20\n",
            "30/30 [==============================] - 1s 19ms/step - loss: 0.0773 - accuracy: 0.9806 - val_loss: 0.3205 - val_accuracy: 0.8827\n",
            "Epoch 15/20\n",
            "30/30 [==============================] - 1s 20ms/step - loss: 0.0688 - accuracy: 0.9833 - val_loss: 0.3382 - val_accuracy: 0.8798\n",
            "Epoch 16/20\n",
            "30/30 [==============================] - 1s 19ms/step - loss: 0.0617 - accuracy: 0.9860 - val_loss: 0.3423 - val_accuracy: 0.8815\n",
            "Epoch 17/20\n",
            "30/30 [==============================] - 1s 19ms/step - loss: 0.0546 - accuracy: 0.9879 - val_loss: 0.3597 - val_accuracy: 0.8785\n",
            "Epoch 18/20\n",
            "30/30 [==============================] - 1s 19ms/step - loss: 0.0491 - accuracy: 0.9893 - val_loss: 0.3728 - val_accuracy: 0.8788\n",
            "Epoch 19/20\n",
            "30/30 [==============================] - 1s 19ms/step - loss: 0.0431 - accuracy: 0.9908 - val_loss: 0.4008 - val_accuracy: 0.8748\n",
            "Epoch 20/20\n",
            "30/30 [==============================] - 1s 18ms/step - loss: 0.0379 - accuracy: 0.9925 - val_loss: 0.4138 - val_accuracy: 0.8757\n"
          ]
        }
      ],
      "source": [
        "model = keras.Sequential([\n",
        "    layers.Dense(4, activation=\"relu\"),\n",
        "    layers.Dense(4, activation=\"relu\"),\n",
        "    layers.Dense(1, activation=\"sigmoid\")\n",
        "])\n",
        "model.compile(optimizer=\"rmsprop\",\n",
        "              loss=\"binary_crossentropy\",\n",
        "              metrics=[\"accuracy\"])\n",
        "history_smaller_model = model.fit(\n",
        "    train_data, train_labels,\n",
        "    epochs=20, batch_size=512, validation_split=0.4)"
      ]
    },
    {
      "cell_type": "markdown",
      "metadata": {
        "id": "bVUAxUplpEC9"
      },
      "source": [
        "**Version of the model with higher capacity**"
      ]
    },
    {
      "cell_type": "code",
      "execution_count": 12,
      "metadata": {
        "id": "gqPqXaHHpEC9",
        "colab": {
          "base_uri": "https://localhost:8080/"
        },
        "outputId": "1c91cb8a-9ce7-47ca-9197-f349c0b84d76"
      },
      "outputs": [
        {
          "output_type": "stream",
          "name": "stdout",
          "text": [
            "Epoch 1/20\n",
            "30/30 [==============================] - 2s 38ms/step - loss: 0.5325 - accuracy: 0.7624 - val_loss: 0.3120 - val_accuracy: 0.8711\n",
            "Epoch 2/20\n",
            "30/30 [==============================] - 1s 24ms/step - loss: 0.2529 - accuracy: 0.8977 - val_loss: 0.2674 - val_accuracy: 0.8943\n",
            "Epoch 3/20\n",
            "30/30 [==============================] - 1s 23ms/step - loss: 0.1447 - accuracy: 0.9447 - val_loss: 0.3331 - val_accuracy: 0.8854\n",
            "Epoch 4/20\n",
            "30/30 [==============================] - 1s 23ms/step - loss: 0.0747 - accuracy: 0.9712 - val_loss: 0.3382 - val_accuracy: 0.8873\n",
            "Epoch 5/20\n",
            "30/30 [==============================] - 1s 22ms/step - loss: 0.0739 - accuracy: 0.9782 - val_loss: 0.2995 - val_accuracy: 0.8848\n",
            "Epoch 6/20\n",
            "30/30 [==============================] - 1s 22ms/step - loss: 0.0072 - accuracy: 0.9995 - val_loss: 0.5091 - val_accuracy: 0.8871\n",
            "Epoch 7/20\n",
            "30/30 [==============================] - 1s 23ms/step - loss: 0.0011 - accuracy: 0.9999 - val_loss: 0.6421 - val_accuracy: 0.8863\n",
            "Epoch 8/20\n",
            "30/30 [==============================] - 1s 23ms/step - loss: 1.4056e-04 - accuracy: 1.0000 - val_loss: 0.7829 - val_accuracy: 0.8858\n",
            "Epoch 9/20\n",
            "30/30 [==============================] - 1s 22ms/step - loss: 2.0174e-05 - accuracy: 1.0000 - val_loss: 0.8833 - val_accuracy: 0.8871\n",
            "Epoch 10/20\n",
            "30/30 [==============================] - 1s 22ms/step - loss: 4.2086e-06 - accuracy: 1.0000 - val_loss: 0.9917 - val_accuracy: 0.8863\n",
            "Epoch 11/20\n",
            "30/30 [==============================] - 1s 22ms/step - loss: 1.1382e-06 - accuracy: 1.0000 - val_loss: 1.0822 - val_accuracy: 0.8864\n",
            "Epoch 12/20\n",
            "30/30 [==============================] - 1s 22ms/step - loss: 3.2029e-07 - accuracy: 1.0000 - val_loss: 1.1947 - val_accuracy: 0.8842\n",
            "Epoch 13/20\n",
            "30/30 [==============================] - 1s 22ms/step - loss: 1.1312e-07 - accuracy: 1.0000 - val_loss: 1.2336 - val_accuracy: 0.8870\n",
            "Epoch 14/20\n",
            "30/30 [==============================] - 1s 22ms/step - loss: 4.7560e-08 - accuracy: 1.0000 - val_loss: 1.2866 - val_accuracy: 0.8865\n",
            "Epoch 15/20\n",
            "30/30 [==============================] - 1s 22ms/step - loss: 2.7484e-08 - accuracy: 1.0000 - val_loss: 1.3176 - val_accuracy: 0.8865\n",
            "Epoch 16/20\n",
            "30/30 [==============================] - 1s 22ms/step - loss: 1.8818e-08 - accuracy: 1.0000 - val_loss: 1.3408 - val_accuracy: 0.8865\n",
            "Epoch 17/20\n",
            "30/30 [==============================] - 1s 22ms/step - loss: 1.4220e-08 - accuracy: 1.0000 - val_loss: 1.3573 - val_accuracy: 0.8865\n",
            "Epoch 18/20\n",
            "30/30 [==============================] - 1s 22ms/step - loss: 1.1451e-08 - accuracy: 1.0000 - val_loss: 1.3714 - val_accuracy: 0.8868\n",
            "Epoch 19/20\n",
            "30/30 [==============================] - 1s 22ms/step - loss: 9.5864e-09 - accuracy: 1.0000 - val_loss: 1.3841 - val_accuracy: 0.8865\n",
            "Epoch 20/20\n",
            "30/30 [==============================] - 1s 25ms/step - loss: 8.2642e-09 - accuracy: 1.0000 - val_loss: 1.3943 - val_accuracy: 0.8864\n"
          ]
        }
      ],
      "source": [
        "model = keras.Sequential([\n",
        "    layers.Dense(512, activation=\"relu\"),\n",
        "    layers.Dense(512, activation=\"relu\"),\n",
        "    layers.Dense(1, activation=\"sigmoid\")\n",
        "])\n",
        "model.compile(optimizer=\"rmsprop\",\n",
        "              loss=\"binary_crossentropy\",\n",
        "              metrics=[\"accuracy\"])\n",
        "history_larger_model = model.fit(\n",
        "    train_data, train_labels,\n",
        "    epochs=20, batch_size=512, validation_split=0.4)"
      ]
    },
    {
      "cell_type": "markdown",
      "metadata": {
        "id": "x3vzE8jSpEC9"
      },
      "source": [
        "#### Adding weight regularization"
      ]
    },
    {
      "cell_type": "markdown",
      "metadata": {
        "id": "u-i0eHwxpEC9"
      },
      "source": [
        "**Adding L2 weight regularization to the model**"
      ]
    },
    {
      "cell_type": "code",
      "execution_count": 13,
      "metadata": {
        "id": "JdsNtaf_pEC9",
        "colab": {
          "base_uri": "https://localhost:8080/"
        },
        "outputId": "d8cbb2a0-9690-4a51-a8b2-692e34101f31"
      },
      "outputs": [
        {
          "output_type": "stream",
          "name": "stdout",
          "text": [
            "Epoch 1/20\n",
            "30/30 [==============================] - 2s 34ms/step - loss: 0.5995 - accuracy: 0.7760 - val_loss: 0.4724 - val_accuracy: 0.8713\n",
            "Epoch 2/20\n",
            "30/30 [==============================] - 1s 19ms/step - loss: 0.4143 - accuracy: 0.8955 - val_loss: 0.3982 - val_accuracy: 0.8874\n",
            "Epoch 3/20\n",
            "30/30 [==============================] - 1s 19ms/step - loss: 0.3434 - accuracy: 0.9136 - val_loss: 0.4062 - val_accuracy: 0.8685\n",
            "Epoch 4/20\n",
            "30/30 [==============================] - 1s 19ms/step - loss: 0.3095 - accuracy: 0.9243 - val_loss: 0.4040 - val_accuracy: 0.8686\n",
            "Epoch 5/20\n",
            "30/30 [==============================] - 1s 19ms/step - loss: 0.2896 - accuracy: 0.9315 - val_loss: 0.3667 - val_accuracy: 0.8880\n",
            "Epoch 6/20\n",
            "30/30 [==============================] - 1s 19ms/step - loss: 0.2735 - accuracy: 0.9369 - val_loss: 0.3774 - val_accuracy: 0.8802\n",
            "Epoch 7/20\n",
            "30/30 [==============================] - 1s 20ms/step - loss: 0.2690 - accuracy: 0.9361 - val_loss: 0.3752 - val_accuracy: 0.8824\n",
            "Epoch 8/20\n",
            "30/30 [==============================] - 1s 19ms/step - loss: 0.2577 - accuracy: 0.9417 - val_loss: 0.3859 - val_accuracy: 0.8775\n",
            "Epoch 9/20\n",
            "30/30 [==============================] - 1s 19ms/step - loss: 0.2522 - accuracy: 0.9433 - val_loss: 0.3726 - val_accuracy: 0.8844\n",
            "Epoch 10/20\n",
            "30/30 [==============================] - 1s 19ms/step - loss: 0.2456 - accuracy: 0.9471 - val_loss: 0.3748 - val_accuracy: 0.8824\n",
            "Epoch 11/20\n",
            "30/30 [==============================] - 1s 19ms/step - loss: 0.2424 - accuracy: 0.9455 - val_loss: 0.3781 - val_accuracy: 0.8814\n",
            "Epoch 12/20\n",
            "30/30 [==============================] - 1s 20ms/step - loss: 0.2380 - accuracy: 0.9487 - val_loss: 0.3882 - val_accuracy: 0.8794\n",
            "Epoch 13/20\n",
            "30/30 [==============================] - 1s 19ms/step - loss: 0.2354 - accuracy: 0.9483 - val_loss: 0.3941 - val_accuracy: 0.8784\n",
            "Epoch 14/20\n",
            "30/30 [==============================] - 1s 23ms/step - loss: 0.2307 - accuracy: 0.9526 - val_loss: 0.3949 - val_accuracy: 0.8775\n",
            "Epoch 15/20\n",
            "30/30 [==============================] - 1s 19ms/step - loss: 0.2282 - accuracy: 0.9528 - val_loss: 0.4169 - val_accuracy: 0.8719\n",
            "Epoch 16/20\n",
            "30/30 [==============================] - 1s 19ms/step - loss: 0.2287 - accuracy: 0.9497 - val_loss: 0.4191 - val_accuracy: 0.8711\n",
            "Epoch 17/20\n",
            "30/30 [==============================] - 1s 19ms/step - loss: 0.2209 - accuracy: 0.9567 - val_loss: 0.3983 - val_accuracy: 0.8781\n",
            "Epoch 18/20\n",
            "30/30 [==============================] - 1s 19ms/step - loss: 0.2224 - accuracy: 0.9537 - val_loss: 0.4083 - val_accuracy: 0.8767\n",
            "Epoch 19/20\n",
            "30/30 [==============================] - 1s 19ms/step - loss: 0.2122 - accuracy: 0.9581 - val_loss: 0.4053 - val_accuracy: 0.8762\n",
            "Epoch 20/20\n",
            "30/30 [==============================] - 1s 18ms/step - loss: 0.2217 - accuracy: 0.9532 - val_loss: 0.4306 - val_accuracy: 0.8689\n"
          ]
        }
      ],
      "source": [
        "from tensorflow.keras import regularizers\n",
        "model = keras.Sequential([\n",
        "    layers.Dense(16,\n",
        "                 kernel_regularizer=regularizers.l2(0.002),\n",
        "                 activation=\"relu\"),\n",
        "    layers.Dense(16,\n",
        "                 kernel_regularizer=regularizers.l2(0.002),\n",
        "                 activation=\"relu\"),\n",
        "    layers.Dense(1, activation=\"sigmoid\")\n",
        "])\n",
        "model.compile(optimizer=\"rmsprop\",\n",
        "              loss=\"binary_crossentropy\",\n",
        "              metrics=[\"accuracy\"])\n",
        "history_l2_reg = model.fit(\n",
        "    train_data, train_labels,\n",
        "    epochs=20, batch_size=512, validation_split=0.4)"
      ]
    },
    {
      "cell_type": "markdown",
      "metadata": {
        "id": "nxbAGrOFpEC9"
      },
      "source": [
        "**Different weight regularizers available in Keras**"
      ]
    },
    {
      "cell_type": "code",
      "execution_count": 14,
      "metadata": {
        "id": "1fZI-23kpEC-",
        "colab": {
          "base_uri": "https://localhost:8080/"
        },
        "outputId": "86117aec-149d-49e7-a078-d183bd5a6067"
      },
      "outputs": [
        {
          "output_type": "execute_result",
          "data": {
            "text/plain": [
              "<keras.regularizers.L1L2 at 0x7fbc5e583b10>"
            ]
          },
          "metadata": {},
          "execution_count": 14
        }
      ],
      "source": [
        "from tensorflow.keras import regularizers\n",
        "regularizers.l1(0.001)\n",
        "regularizers.l1_l2(l1=0.001, l2=0.001)"
      ]
    },
    {
      "cell_type": "markdown",
      "metadata": {
        "id": "DZ2mfuR9pEC-"
      },
      "source": [
        "#### Adding dropout"
      ]
    },
    {
      "cell_type": "markdown",
      "metadata": {
        "id": "TdrxhNy9pEC-"
      },
      "source": [
        "**Adding dropout to the IMDB model**"
      ]
    },
    {
      "cell_type": "code",
      "execution_count": 15,
      "metadata": {
        "id": "y6HIVQYppEC_",
        "colab": {
          "base_uri": "https://localhost:8080/"
        },
        "outputId": "09a8358e-3348-44a9-ac2b-f346ebb4440c"
      },
      "outputs": [
        {
          "output_type": "stream",
          "name": "stdout",
          "text": [
            "Epoch 1/20\n",
            "30/30 [==============================] - 2s 34ms/step - loss: 0.6322 - accuracy: 0.6403 - val_loss: 0.5148 - val_accuracy: 0.8454\n",
            "Epoch 2/20\n",
            "30/30 [==============================] - 1s 19ms/step - loss: 0.5074 - accuracy: 0.7717 - val_loss: 0.4068 - val_accuracy: 0.8716\n",
            "Epoch 3/20\n",
            "30/30 [==============================] - 1s 19ms/step - loss: 0.4268 - accuracy: 0.8269 - val_loss: 0.3391 - val_accuracy: 0.8842\n",
            "Epoch 4/20\n",
            "30/30 [==============================] - 1s 19ms/step - loss: 0.3635 - accuracy: 0.8629 - val_loss: 0.3073 - val_accuracy: 0.8846\n",
            "Epoch 5/20\n",
            "30/30 [==============================] - 1s 19ms/step - loss: 0.3131 - accuracy: 0.8891 - val_loss: 0.2864 - val_accuracy: 0.8881\n",
            "Epoch 6/20\n",
            "30/30 [==============================] - 1s 19ms/step - loss: 0.2738 - accuracy: 0.9047 - val_loss: 0.2797 - val_accuracy: 0.8867\n",
            "Epoch 7/20\n",
            "30/30 [==============================] - 1s 19ms/step - loss: 0.2384 - accuracy: 0.9187 - val_loss: 0.2816 - val_accuracy: 0.8898\n",
            "Epoch 8/20\n",
            "30/30 [==============================] - 1s 19ms/step - loss: 0.2134 - accuracy: 0.9297 - val_loss: 0.2843 - val_accuracy: 0.8934\n",
            "Epoch 9/20\n",
            "30/30 [==============================] - 1s 20ms/step - loss: 0.1862 - accuracy: 0.9354 - val_loss: 0.2987 - val_accuracy: 0.8927\n",
            "Epoch 10/20\n",
            "30/30 [==============================] - 1s 19ms/step - loss: 0.1648 - accuracy: 0.9442 - val_loss: 0.3160 - val_accuracy: 0.8916\n",
            "Epoch 11/20\n",
            "30/30 [==============================] - 1s 19ms/step - loss: 0.1498 - accuracy: 0.9530 - val_loss: 0.3343 - val_accuracy: 0.8888\n",
            "Epoch 12/20\n",
            "30/30 [==============================] - 1s 19ms/step - loss: 0.1331 - accuracy: 0.9549 - val_loss: 0.3531 - val_accuracy: 0.8889\n",
            "Epoch 13/20\n",
            "30/30 [==============================] - 1s 19ms/step - loss: 0.1212 - accuracy: 0.9589 - val_loss: 0.3881 - val_accuracy: 0.8883\n",
            "Epoch 14/20\n",
            "30/30 [==============================] - 1s 19ms/step - loss: 0.1090 - accuracy: 0.9639 - val_loss: 0.4027 - val_accuracy: 0.8879\n",
            "Epoch 15/20\n",
            "30/30 [==============================] - 1s 19ms/step - loss: 0.1062 - accuracy: 0.9644 - val_loss: 0.4420 - val_accuracy: 0.8864\n",
            "Epoch 16/20\n",
            "30/30 [==============================] - 1s 19ms/step - loss: 0.0961 - accuracy: 0.9680 - val_loss: 0.4840 - val_accuracy: 0.8861\n",
            "Epoch 17/20\n",
            "30/30 [==============================] - 1s 19ms/step - loss: 0.0905 - accuracy: 0.9687 - val_loss: 0.5175 - val_accuracy: 0.8821\n",
            "Epoch 18/20\n",
            "30/30 [==============================] - 1s 20ms/step - loss: 0.0848 - accuracy: 0.9697 - val_loss: 0.5225 - val_accuracy: 0.8858\n",
            "Epoch 19/20\n",
            "30/30 [==============================] - 1s 20ms/step - loss: 0.0792 - accuracy: 0.9710 - val_loss: 0.5594 - val_accuracy: 0.8833\n",
            "Epoch 20/20\n",
            "30/30 [==============================] - 1s 19ms/step - loss: 0.0833 - accuracy: 0.9730 - val_loss: 0.5774 - val_accuracy: 0.8836\n"
          ]
        }
      ],
      "source": [
        "model = keras.Sequential([\n",
        "    layers.Dense(16, activation=\"relu\"),\n",
        "    layers.Dropout(0.5),\n",
        "    layers.Dense(16, activation=\"relu\"),\n",
        "    layers.Dropout(0.5),\n",
        "    layers.Dense(1, activation=\"sigmoid\")\n",
        "])\n",
        "model.compile(optimizer=\"rmsprop\",\n",
        "              loss=\"binary_crossentropy\",\n",
        "              metrics=[\"accuracy\"])\n",
        "history_dropout = model.fit(\n",
        "    train_data, train_labels,\n",
        "    epochs=20, batch_size=512, validation_split=0.4)"
      ]
    },
    {
      "cell_type": "markdown",
      "metadata": {
        "id": "rR0nY-PqpEC_"
      },
      "source": [
        "## Summary"
      ]
    }
  ],
  "metadata": {
    "colab": {
      "collapsed_sections": [],
      "name": "chapter05_fundamentals-of-ml.i의 사본",
      "provenance": [],
      "include_colab_link": true
    },
    "kernelspec": {
      "display_name": "Python 3",
      "language": "python",
      "name": "python3"
    },
    "language_info": {
      "codemirror_mode": {
        "name": "ipython",
        "version": 3
      },
      "file_extension": ".py",
      "mimetype": "text/x-python",
      "name": "python",
      "nbconvert_exporter": "python",
      "pygments_lexer": "ipython3",
      "version": "3.7.0"
    },
    "accelerator": "GPU"
  },
  "nbformat": 4,
  "nbformat_minor": 0
}